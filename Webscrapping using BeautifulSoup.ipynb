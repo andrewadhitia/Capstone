{
 "cells": [
  {
   "cell_type": "markdown",
   "metadata": {},
   "source": [
    "# Webscrapping using BeautifulSoup\n",
    "\n",
    "At this module we will learn on how do simple web scrapping using beautiful soup. Web scrapping is one of a method that we can use to colleting the data from internet. At this particular module, we will try to scrap Indonesian inflation rate from www.bi.go.id , it's a official Indonesian bank that provide a couple useful financial information. To do this we will only use a couple default library from python and BeautifulSoup. \n",
    "\n",
    "This module is made as easy and simple as possible which can be used for new developer to learn how to webscrapping using Beautiful Soup. But to do webscrapping you will need a bit of knowlage in `html` which I'll also try to help to explain what you needed at this module, but it is always better if you understand a bit what in `html` first. You can read it quickly at [beautifulsoup](https://www.crummy.com/software/BeautifulSoup/bs4/doc) documentation. It explain what is html and what beautiful soup exactly do at it landing page. \n",
    "\n",
    "## Dependencies\n",
    "\n",
    "Actually to follow this module you only need to install beautifulsoup4 with `pip install beautifulsoup4` and you are good to go. But here some libraries that needed to be installed first that I use at bis module : \n",
    "\n",
    "- beautifulSoup4\n",
    "- pandas\n",
    "- matplotlibs\n",
    "\n",
    "## What is BeautifulSoup\n",
    "\n",
    "Beautiful Soup is a Python library for pulling data out of HTML and XML files. Beautiful Soup 3 only works on Python 2.x, but Beautiful Soup 4 also works on Python 3.x. Beautiful Soup 4 is faster, has more features, and works with third-party parsers\n",
    "like lxml and html5lib.\n",
    "\n",
    "Since beautifulsoup used to pull the data out of a HTML, so first we need to pull out the html first. How we do it? We will use default library `request`. \n",
    "\n",
    "So all this code is doing is sending a GET request to spesific address we give. This is the same type of request your browser sent to view this page, but the only difference is that Requests can't actually render the HTML, so instead you will just get the raw HTML and the other response information.\n",
    "\n",
    "We're using the .get() function here, but Requests allows you to use other functions like .post() and .put() to send those requests as well. At this case we will going to the Bank Indonesia inflation rate page, you can click [here](https://www.bi.go.id/id/moneter/inflasi/data/Default.aspx) to follow what exactly that link goes to. "
   ]
  },
  {
   "cell_type": "code",
   "execution_count": 7,
   "metadata": {},
   "outputs": [],
   "source": [
    "import requests\n",
    "\n",
    "url_get = requests.get('https://www.bi.go.id/id/moneter/inflasi/data/Default.aspx')"
   ]
  },
  {
   "cell_type": "code",
   "execution_count": 8,
   "metadata": {},
   "outputs": [],
   "source": [
    "import requests\n",
    "\n",
    "url_get_cp =\\\n",
    "requests.get('https://monexnews.com/kurs-valuta-asing.htm?kurs=JPY&searchdatefrom=01-01-2019&searchdateto=31-12-2019')"
   ]
  },
  {
   "cell_type": "markdown",
   "metadata": {},
   "source": [
    "To visualize what exactly you get from the `request.get`, we can use .content so ee what we exactly get, in here i slice it so it won't make our screen full of the html we get from the page. You can delete the slicing if you want to see what we fully get."
   ]
  },
  {
   "cell_type": "code",
   "execution_count": 9,
   "metadata": {},
   "outputs": [
    {
     "data": {
      "text/plain": [
       "b'\\n\\r\\n<!DOCTYPE html PUBLIC \"-//W3C//DTD XHTML 1.0 Strict//EN\" \"http://www.w3.org/TR/xhtml1/DTD/xhtml1-strict.dtd\">\\r\\n<html xmlns=\"http://www.w3.org/1999/xhtml\" __expr-val-dir=\"ltr\" lang=\"en-us\" dir=\"ltr\">\\r\\n<head>\\r\\n\\t<cfheader name=\"X-XSS-Protection\" value=\"0\" />\\r\\n\\t<meta name=\"viewport\" content=\"width=device-width, initial-scale=1.0\" /><meta http-equiv=\"Content-Type\" content=\"text/html; charset=utf-8\" /><meta http-equiv=\"Expires\" content=\"0\" /><meta http-equiv=\"X-UA-Compatible\" content=\"IE=9\" /><title>\\r\\n\\tData Inflasi\\r\\n - Bank Sentral Republik Indonesia\\r\\n</title><link rel=\"shortcut icon\" href=\"/_biweb/css/images/favicon.ico\" type=\"image/vnd.microsoft.icon\" /><link rel=\"stylesheet\" type=\"text/css\" href=\"/_layouts/1033/styles/Themable/search.css?rev=T%2Bhraxktc1A8EnaG5gGMHQ'"
      ]
     },
     "execution_count": 9,
     "metadata": {},
     "output_type": "execute_result"
    }
   ],
   "source": [
    "url_get.content[1:777]"
   ]
  },
  {
   "cell_type": "code",
   "execution_count": 10,
   "metadata": {},
   "outputs": [
    {
     "data": {
      "text/plain": [
       "b'\\n\\r\\n<!DOCTYPE html PUBLIC \"-//W3C//DTD XHTML 1.0 Strict//EN\" \"http://www.w3.org/TR/xhtml1/DTD/xhtml1-strict.dtd\">\\r\\n<html xmlns=\"http://www.w3.org/1999/xhtml\" __expr-val-dir=\"ltr\" lang=\"en-us\" dir=\"ltr\">\\r\\n<head>\\r\\n\\t<cfheader name=\"X-XSS-Protection\" value=\"0\" />\\r\\n\\t<meta name=\"viewport\" content=\"width=device-width, initial-scale=1.0\" /><meta http-equiv=\"Content-Type\" content=\"text/html; charset=utf-8\" /><meta http-equiv=\"Expires\" content=\"0\" /><meta http-equiv=\"X-UA-Compatible\" content=\"IE=9\" /><title>\\r\\n\\tData Inflasi\\r\\n - Bank Sentral Republik Indonesia\\r\\n</title><link rel=\"shortcut icon\" href=\"/_biweb/css/images/favicon.ico\" type=\"image/vnd.microsoft.icon\" /><link rel=\"stylesheet\" type=\"text/css\" href=\"/_layouts/1033/styles/Themable/search.css?rev=T%2Bhraxktc1A8EnaG5gGMHQ%3D%3D\"/>\\n<link rel=\"stylesheet\" type=\"text/css\" href=\"/_layouts/1033/styles/Themable/corev4.css?rev=p63%2BuzTeSJc22nVGNZ5zwg%3D%3D\"/>\\n\\r\\n    <script type=\"text/javascript\">\\r\\n        var _fV4UI = true;\\r\\n    </script>\\r\\n  \\t<sc'"
      ]
     },
     "execution_count": 10,
     "metadata": {},
     "output_type": "execute_result"
    }
   ],
   "source": [
    "url_get.content[1:1000]"
   ]
  },
  {
   "cell_type": "code",
   "execution_count": 11,
   "metadata": {
    "scrolled": true
   },
   "outputs": [
    {
     "data": {
      "text/plain": [
       "b'!DOCTYPE html PUBLIC \"-//W3C//DTD XHTML 1.0 Transitional//EN\" \"http://www.w3.org/TR/xhtml1/DTD/xhtml1-transitional.dtd\">\\r\\n<html xmlns=\"http://www.w3.org/1999/xhtml\">\\r\\n<head>\\r\\n<meta http-equiv=\"Content-Language\" content=\"en,in\" />\\r\\n<link rel=\"alternate\" href=\"https://monexnews.com/kurs-valuta-asing.php\" hreflang=\"en-ID\" />\\r\\n<base href=\"https://monexnews.com/\" target=\"_self\" />\\r\\n<title>Kurs Yen Jepang | JPY | Harga Nilai Tukar Yen Hari Ini | Monexnews</title>\\r\\n<meta name=\"description\" content=\"Kurs yen jepang JPY, nilai tukar rupiah terhadap harga yen hari ini berdasar kurs tengah BI, Bank Indonesia. \" />\\r\\n<meta name=\"keywords\" content=\"Kurs yen, jpy, nilai tukar yen, monexnews\" />\\r\\n<meta property=\"og:image\" content=\"favicon.jpg\" />\\r\\n<meta name=\"author\" content=\"Ultim'"
      ]
     },
     "execution_count": 11,
     "metadata": {},
     "output_type": "execute_result"
    }
   ],
   "source": [
    "url_get_cp.content[1:777]"
   ]
  },
  {
   "cell_type": "markdown",
   "metadata": {},
   "source": [
    "As we can see we get a very unstructured and complex html, which actually contains the codes needed to show the webpages on your web browser. But we as human still confused what and where we can use that piece of code, so here where we use the beautifulsoup. Beautiful soup class will result a beautifulsoup object. Beautiful Soup transforms a complex HTML document into a complex tree of Python objects. But you’ll only ever have to deal with about four kinds of objects: `Tag`, `NavigableString`, `BeautifulSoup`, and `Comment`. But at this module we will only use `BeautifulSoup`."
   ]
  },
  {
   "cell_type": "code",
   "execution_count": 12,
   "metadata": {},
   "outputs": [
    {
     "name": "stdout",
     "output_type": "stream",
     "text": [
      "<class 'bs4.BeautifulSoup'>\n"
     ]
    }
   ],
   "source": [
    "from bs4 import BeautifulSoup \n",
    "\n",
    "soup = BeautifulSoup(url_get.content,\"html.parser\")\n",
    "print(type(soup))"
   ]
  },
  {
   "cell_type": "code",
   "execution_count": 13,
   "metadata": {},
   "outputs": [
    {
     "name": "stdout",
     "output_type": "stream",
     "text": [
      "<class 'bs4.BeautifulSoup'>\n"
     ]
    }
   ],
   "source": [
    "from bs4 import BeautifulSoup \n",
    "\n",
    "soup_cp = BeautifulSoup(url_get_cp.content,\"html.parser\")\n",
    "print(type(soup_cp))"
   ]
  },
  {
   "cell_type": "markdown",
   "metadata": {},
   "source": [
    "Let's see how our beautifulsoup looks like. As you can see, the content is the same with our `get_url` object but it's tidier. Also beautifulsoup give us method to make it even more prettier, for tidyness purpouse we slice to only see first 1045 character. "
   ]
  },
  {
   "cell_type": "code",
   "execution_count": 14,
   "metadata": {},
   "outputs": [
    {
     "name": "stdout",
     "output_type": "stream",
     "text": [
      "<!DOCTYPE html PUBLIC \"-//W3C//DTD XHTML 1.0 Strict//EN\" \"http://www.w3.org/TR/xhtml1/DTD/xhtml1-strict.dtd\">\n",
      "<html __expr-val-dir=\"ltr\" dir=\"ltr\" lang=\"en-us\" xmlns=\"http://www.w3.org/1999/xhtml\">\n",
      " <head>\n",
      "  <cfheader name=\"X-XSS-Protection\" value=\"0\">\n",
      "  </cfheader>\n",
      "  <meta content=\"width=device-width, initial-scale=1.0\" name=\"viewport\"/>\n",
      "  <meta content=\"text/html; charset=utf-8\" http-equiv=\"Content-Type\"/>\n",
      "  <meta content=\"0\" http-equiv=\"Expires\"/>\n",
      "  <meta content=\"IE=9\" http-equiv=\"X-UA-Compatible\"/>\n",
      "  <title>\n",
      "   Data Inflasi\r\n",
      " - Bank Sentral Republik Indonesia\n",
      "  </title>\n",
      "  <link href=\"/_biweb/css/images/favicon.ico\" rel=\"shortcut icon\" type=\"image/vnd.microsoft.icon\"/>\n",
      "  <link href=\"/_layouts/1033/styles/Themable/search.css?rev=T%2Bhraxktc1A8EnaG5gGMHQ%3D%3D\" rel=\"stylesheet\" type=\"text/css\"/>\n",
      "  <link href=\"/_layouts/1033/styles/Themable/corev4.css?rev=p63%2BuzTeSJc22nVGNZ5zwg%3D%3D\" rel=\"stylesheet\" type=\"text/css\"/>\n",
      "  <script type=\"text/javascript\">\n",
      "   var _fV4UI = true;\n",
      "  </script>\n",
      "  <script type=\"text/javascript\">\n",
      "   // <\n"
     ]
    }
   ],
   "source": [
    "print(soup.prettify()[:1045])"
   ]
  },
  {
   "cell_type": "code",
   "execution_count": 15,
   "metadata": {},
   "outputs": [
    {
     "name": "stdout",
     "output_type": "stream",
     "text": [
      "<!DOCTYPE html PUBLIC \"-//W3C//DTD XHTML 1.0 Transitional//EN\" \"http://www.w3.org/TR/xhtml1/DTD/xhtml1-transitional.dtd\">\n",
      "<html xmlns=\"http://www.w3.org/1999/xhtml\">\n",
      " <head>\n",
      "  <meta content=\"en,in\" http-equiv=\"Content-Language\"/>\n",
      "  <link href=\"https://monexnews.com/kurs-valuta-asing.php\" hreflang=\"en-ID\" rel=\"alternate\"/>\n",
      "  <base href=\"https://monexnews.com/\" target=\"_self\"/>\n",
      "  <title>\n",
      "   Kurs Yen Jepang | JPY | Harga Nilai Tukar Yen Hari Ini | Monexnews\n",
      "  </title>\n",
      "  <meta content=\"Kurs yen jepang JPY, nilai tukar rupiah terhadap harga yen hari ini berdasar kurs tengah BI, Bank Indonesia. \" name=\"description\"/>\n",
      "  <meta content=\"Kurs yen, jpy, nilai tukar yen, monexnews\" name=\"keywords\"/>\n",
      "  <meta content=\"favicon.jpg\" property=\"og:image\"/>\n",
      "  <meta content=\"Ultimaengine.com\" name=\"author\"/>\n",
      "  <meta content=\"follow, index\" name=\"robots\"/>\n",
      "  <meta content=\"7 days\" name=\"revisit-after\"/>\n",
      "  <meta content=\"width=device-width, initial-scale=1.0\" name=\"viewport\"/>\n",
      "  <meta content=\"M7NOlgqcEadhlLSiEssmvNI08vl1BowAztIyERgEgMQ\" name=\"google-\n"
     ]
    }
   ],
   "source": [
    "print(soup_cp.prettify()[:1045])"
   ]
  },
  {
   "cell_type": "markdown",
   "metadata": {},
   "source": [
    "Now we already have a tidier html, now we should search the lines that we want to use. Let's back to our web page first.\n",
    "\n",
    "<img src=\"asset/capture.png\">\n",
    "\n",
    "The information that we need are the month and the inflation rate each month, which contain in the table. To know which part of the code refer to that table, we can just move our cusor there, right click, and inspect element. Then we will see something like this. \n",
    "\n",
    "<img src=\"asset/capture_1.png\">\n",
    "\n",
    "From inspect element we know that we need to find the line table with class `table`. We can use the find method at our beautifusoup object. Let's also call our object to see what we get. "
   ]
  },
  {
   "cell_type": "code",
   "execution_count": 16,
   "metadata": {},
   "outputs": [
    {
     "name": "stdout",
     "output_type": "stream",
     "text": [
      "table class=\"table1\">\n",
      " <tr>\n",
      "  <th>\n",
      "   Bulan Tahun\n",
      "  </th>\n",
      "  <th>\n",
      "   Tingkat Inflasi\n",
      "  </th>\n",
      " </tr>\n",
      " <tr>\n",
      "  <td style=\"text-align:left;\">\n",
      "   Desember 2019\n",
      "  </td>\n",
      "  <td style=\"text-align:left;\">\n",
      "   2.72 %\n",
      "  </td>\n",
      " </tr>\n",
      " <tr>\n",
      "  <td style=\"text-align:left;\">\n",
      "   Nopember 2019\n",
      "  </td>\n",
      "  <td style=\"text-align:left;\">\n",
      "   3.00 %\n",
      "  </td>\n",
      " </tr>\n",
      " <tr>\n",
      "  <td style=\"text-align:left;\">\n",
      "   Oktober 2019\n",
      "  </td>\n",
      "  <td style=\"text-align:left;\">\n",
      "   3.13 %\n",
      "  </td>\n",
      " </tr>\n",
      " <tr>\n",
      "  <td style=\"text-align:left;\">\n",
      "   \n"
     ]
    }
   ],
   "source": [
    "# sesuai dengan hasil inspect element (IQ) klik kanan\n",
    "\n",
    "table = soup.find('table', attrs={'class':'table1'})\n",
    "print(table.prettify()[1:500])"
   ]
  },
  {
   "cell_type": "code",
   "execution_count": 17,
   "metadata": {},
   "outputs": [
    {
     "name": "stdout",
     "output_type": "stream",
     "text": [
      "table class=\"table\">\n",
      " <tr>\n",
      "  <td>\n",
      "   TANGGAL\n",
      "  </td>\n",
      "  <td>\n",
      "   ASK\n",
      "  </td>\n",
      "  <td>\n",
      "   BID\n",
      "  </td>\n",
      " </tr>\n",
      " <tr class=\"verySoftGreyBg\">\n",
      "  <td>\n",
      "   31 Desember 2019\n",
      "  </td>\n",
      "  <td>\n",
      "   128,62\n",
      "  </td>\n",
      "  <td>\n",
      "   127,32\n",
      "  </td>\n",
      " </tr>\n",
      " <tr>\n",
      "  <td>\n",
      "   30 Desember 2019\n",
      "  </td>\n",
      "  <td>\n",
      "   128,30\n",
      "  </td>\n",
      "  <td>\n",
      "   127,02\n",
      "  </td>\n",
      " </tr>\n",
      " <tr class=\"verySoftGreyBg\">\n",
      "  <td>\n",
      "   27 Desember 2019\n",
      "  </td>\n",
      "  <td>\n",
      "   128,11\n",
      "  </td>\n",
      "  <td>\n",
      "   126,83\n",
      "  </td>\n",
      " </tr>\n",
      " <tr>\n",
      "  <td>\n",
      "   26 Desember 2019\n",
      "  </td>\n",
      "  <td>\n",
      "   128,\n"
     ]
    }
   ],
   "source": [
    "table_cp = soup_cp.find('table', attrs={'class':'table'})\n",
    "print(table_cp.prettify()[1:500])"
   ]
  },
  {
   "cell_type": "markdown",
   "metadata": {},
   "source": [
    "As we can see, we find a right lines with information we want. I'll explain a bit about the HTML codes you need to know : \n",
    "\n",
    "- `th` stand for table header/header cell\n",
    "- `tr` stand for table row\n",
    "- `td` stand for standard cell \n",
    "\n",
    "That's all term in HTML `table` that you need to know. Now we can pull it one by one, but we will use looping to make our job easier. But first let's make one object that will find all `tr` in `table` to help us in looping (so we can loop with the length of the table row)."
   ]
  },
  {
   "cell_type": "code",
   "execution_count": 18,
   "metadata": {
    "scrolled": true
   },
   "outputs": [
    {
     "data": {
      "text/plain": [
       "[<tr>\n",
       " <th>\n",
       "                         Bulan Tahun \n",
       "                     </th>\n",
       " <th>\n",
       "                         Tingkat Inflasi\n",
       "                     </th>\n",
       " </tr>, <tr>\n",
       " <td style=\"text-align:left;\">\n",
       "                     Desember 2019\n",
       "                 </td>\n",
       " <td style=\"text-align:left;\">\n",
       "                     2.72 %\n",
       "                 </td>\n",
       " </tr>]"
      ]
     },
     "execution_count": 18,
     "metadata": {},
     "output_type": "execute_result"
    }
   ],
   "source": [
    "tr = table.find_all('tr')\n",
    "tr[:2] # just call 2 founded tr"
   ]
  },
  {
   "cell_type": "code",
   "execution_count": 19,
   "metadata": {},
   "outputs": [
    {
     "data": {
      "text/plain": [
       "[<tr>\n",
       " <td>TANGGAL</td>\n",
       " <td>ASK</td>\n",
       " <td>BID</td>\n",
       " </tr>, <tr class=\"verySoftGreyBg\">\n",
       " <td>31 Desember 2019</td>\n",
       " <td>128,62</td>\n",
       " <td>127,32</td>\n",
       " </tr>]"
      ]
     },
     "execution_count": 19,
     "metadata": {},
     "output_type": "execute_result"
    }
   ],
   "source": [
    "tr_cp = table_cp.find_all('tr')\n",
    "tr_cp[:2]"
   ]
  },
  {
   "cell_type": "code",
   "execution_count": 20,
   "metadata": {},
   "outputs": [
    {
     "data": {
      "text/plain": [
       "[<tr>\n",
       " <th>\n",
       "                         Bulan Tahun \n",
       "                     </th>\n",
       " <th>\n",
       "                         Tingkat Inflasi\n",
       "                     </th>\n",
       " </tr>, <tr>\n",
       " <td style=\"text-align:left;\">\n",
       "                     Desember 2019\n",
       "                 </td>\n",
       " <td style=\"text-align:left;\">\n",
       "                     2.72 %\n",
       "                 </td>\n",
       " </tr>, <tr>\n",
       " <td style=\"text-align:left;\">\n",
       "                     Nopember 2019\n",
       "                 </td>\n",
       " <td style=\"text-align:left;\">\n",
       "                     3.00 %\n",
       "                 </td>\n",
       " </tr>, <tr>\n",
       " <td style=\"text-align:left;\">\n",
       "                     Oktober 2019\n",
       "                 </td>\n",
       " <td style=\"text-align:left;\">\n",
       "                     3.13 %\n",
       "                 </td>\n",
       " </tr>, <tr>\n",
       " <td style=\"text-align:left;\">\n",
       "                     September 2019\n",
       "                 </td>\n",
       " <td style=\"text-align:left;\">\n",
       "                     3.39 %\n",
       "                 </td>\n",
       " </tr>, <tr>\n",
       " <td style=\"text-align:left;\">\n",
       "                     Agustus 2019\n",
       "                 </td>\n",
       " <td style=\"text-align:left;\">\n",
       "                     3.49 %\n",
       "                 </td>\n",
       " </tr>, <tr>\n",
       " <td style=\"text-align:left;\">\n",
       "                     Juli 2019\n",
       "                 </td>\n",
       " <td style=\"text-align:left;\">\n",
       "                     3.32 %\n",
       "                 </td>\n",
       " </tr>, <tr>\n",
       " <td style=\"text-align:left;\">\n",
       "                     Juni 2019\n",
       "                 </td>\n",
       " <td style=\"text-align:left;\">\n",
       "                     3.28 %\n",
       "                 </td>\n",
       " </tr>, <tr>\n",
       " <td style=\"text-align:left;\">\n",
       "                     Mei 2019\n",
       "                 </td>\n",
       " <td style=\"text-align:left;\">\n",
       "                     3.32 %\n",
       "                 </td>\n",
       " </tr>, <tr>\n",
       " <td style=\"text-align:left;\">\n",
       "                     April 2019\n",
       "                 </td>\n",
       " <td style=\"text-align:left;\">\n",
       "                     2.83 %\n",
       "                 </td>\n",
       " </tr>, <tr>\n",
       " <td style=\"text-align:left;\">\n",
       "                     Maret 2019\n",
       "                 </td>\n",
       " <td style=\"text-align:left;\">\n",
       "                     2.48 %\n",
       "                 </td>\n",
       " </tr>, <tr>\n",
       " <td style=\"text-align:left;\">\n",
       "                     Februari 2019\n",
       "                 </td>\n",
       " <td style=\"text-align:left;\">\n",
       "                     2.57 %\n",
       "                 </td>\n",
       " </tr>, <tr>\n",
       " <td style=\"text-align:left;\">\n",
       "                     Januari 2019\n",
       "                 </td>\n",
       " <td style=\"text-align:left;\">\n",
       "                     2.82 %\n",
       "                 </td>\n",
       " </tr>, <tr>\n",
       " <td style=\"text-align:left;\">\n",
       "                     Desember 2018\n",
       "                 </td>\n",
       " <td style=\"text-align:left;\">\n",
       "                     3.13 %\n",
       "                 </td>\n",
       " </tr>, <tr>\n",
       " <td style=\"text-align:left;\">\n",
       "                     Nopember 2018\n",
       "                 </td>\n",
       " <td style=\"text-align:left;\">\n",
       "                     3.23 %\n",
       "                 </td>\n",
       " </tr>, <tr>\n",
       " <td style=\"text-align:left;\">\n",
       "                     Oktober 2018\n",
       "                 </td>\n",
       " <td style=\"text-align:left;\">\n",
       "                     3.16 %\n",
       "                 </td>\n",
       " </tr>, <tr>\n",
       " <td style=\"text-align:left;\">\n",
       "                     September 2018\n",
       "                 </td>\n",
       " <td style=\"text-align:left;\">\n",
       "                     2.88 %\n",
       "                 </td>\n",
       " </tr>, <tr>\n",
       " <td style=\"text-align:left;\">\n",
       "                     Agustus 2018\n",
       "                 </td>\n",
       " <td style=\"text-align:left;\">\n",
       "                     3.20 %\n",
       "                 </td>\n",
       " </tr>, <tr>\n",
       " <td style=\"text-align:left;\">\n",
       "                     Juli 2018\n",
       "                 </td>\n",
       " <td style=\"text-align:left;\">\n",
       "                     3.18 %\n",
       "                 </td>\n",
       " </tr>, <tr>\n",
       " <td style=\"text-align:left;\">\n",
       "                     Juni 2018\n",
       "                 </td>\n",
       " <td style=\"text-align:left;\">\n",
       "                     3.12 %\n",
       "                 </td>\n",
       " </tr>, <tr>\n",
       " <td style=\"text-align:left;\">\n",
       "                     Mei 2018\n",
       "                 </td>\n",
       " <td style=\"text-align:left;\">\n",
       "                     3.23 %\n",
       "                 </td>\n",
       " </tr>]"
      ]
     },
     "execution_count": 20,
     "metadata": {},
     "output_type": "execute_result"
    }
   ],
   "source": [
    "tr = table.find_all('tr')\n",
    "tr[:2000]"
   ]
  },
  {
   "cell_type": "code",
   "execution_count": 21,
   "metadata": {},
   "outputs": [
    {
     "data": {
      "text/plain": [
       "[<tr>\n",
       " <td>TANGGAL</td>\n",
       " <td>ASK</td>\n",
       " <td>BID</td>\n",
       " </tr>, <tr class=\"verySoftGreyBg\">\n",
       " <td>31 Desember 2019</td>\n",
       " <td>128,62</td>\n",
       " <td>127,32</td>\n",
       " </tr>, <tr>\n",
       " <td>30 Desember 2019</td>\n",
       " <td>128,30</td>\n",
       " <td>127,02</td>\n",
       " </tr>, <tr class=\"verySoftGreyBg\">\n",
       " <td>27 Desember 2019</td>\n",
       " <td>128,11</td>\n",
       " <td>126,83</td>\n",
       " </tr>, <tr>\n",
       " <td>26 Desember 2019</td>\n",
       " <td>128,27</td>\n",
       " <td>126,98</td>\n",
       " </tr>, <tr class=\"verySoftGreyBg\">\n",
       " <td>23 Desember 2019</td>\n",
       " <td>128,39</td>\n",
       " <td>127,10</td>\n",
       " </tr>, <tr>\n",
       " <td>20 Desember 2019</td>\n",
       " <td>128,63</td>\n",
       " <td>127,34</td>\n",
       " </tr>, <tr class=\"verySoftGreyBg\">\n",
       " <td>19 Desember 2019</td>\n",
       " <td>128,24</td>\n",
       " <td>126,93</td>\n",
       " </tr>, <tr>\n",
       " <td>18 Desember 2019</td>\n",
       " <td>128,64</td>\n",
       " <td>127,32</td>\n",
       " </tr>, <tr class=\"verySoftGreyBg\">\n",
       " <td>17 Desember 2019</td>\n",
       " <td>128,62</td>\n",
       " <td>127,33</td>\n",
       " </tr>, <tr>\n",
       " <td>16 Desember 2019</td>\n",
       " <td>128,67</td>\n",
       " <td>127,36</td>\n",
       " </tr>, <tr class=\"verySoftGreyBg\">\n",
       " <td>13 Desember 2019</td>\n",
       " <td>128,30</td>\n",
       " <td>127,02</td>\n",
       " </tr>, <tr>\n",
       " <td>12 Desember 2019</td>\n",
       " <td>130,04</td>\n",
       " <td>128,71</td>\n",
       " </tr>, <tr class=\"verySoftGreyBg\">\n",
       " <td>11 Desember 2019</td>\n",
       " <td>129,65</td>\n",
       " <td>128,34</td>\n",
       " </tr>, <tr>\n",
       " <td>10 Desember 2019</td>\n",
       " <td>129,56</td>\n",
       " <td>128,26</td>\n",
       " </tr>, <tr class=\"verySoftGreyBg\">\n",
       " <td>09 Desember 2019</td>\n",
       " <td>129,76</td>\n",
       " <td>128,44</td>\n",
       " </tr>, <tr>\n",
       " <td>06 Desember 2019</td>\n",
       " <td>129,78</td>\n",
       " <td>128,45</td>\n",
       " </tr>, <tr class=\"verySoftGreyBg\">\n",
       " <td>05 Desember 2019</td>\n",
       " <td>130,10</td>\n",
       " <td>128,77</td>\n",
       " </tr>, <tr>\n",
       " <td>04 Desember 2019</td>\n",
       " <td>130,79</td>\n",
       " <td>129,45</td>\n",
       " </tr>, <tr class=\"verySoftGreyBg\">\n",
       " <td>03 Desember 2019</td>\n",
       " <td>130,15</td>\n",
       " <td>128,82</td>\n",
       " </tr>]"
      ]
     },
     "execution_count": 21,
     "metadata": {},
     "output_type": "execute_result"
    }
   ],
   "source": [
    "tr_cp = table_cp.find_all('tr')\n",
    "tr_cp[:20]"
   ]
  },
  {
   "cell_type": "markdown",
   "metadata": {},
   "source": [
    "Here what the looping do to scrap the information: \n",
    "\n",
    "- First we need to establish a placeholder to receive the information that we scrap. \n",
    "- We named it `temp` and it's a tuple. \n",
    "- Then we will make a loop from one until the the length of the table row, \n",
    "- which we will find all cell of the column one and two which contain period and the inflation rate. \n",
    "- Then we will append it to our tuple that we prepared before, \n",
    "- every one iteration we will scrap one line of the table.  "
   ]
  },
  {
   "cell_type": "code",
   "execution_count": 22,
   "metadata": {},
   "outputs": [
    {
     "data": {
      "text/plain": [
       "[('Desember 2019', '2.72 %'),\n",
       " ('Nopember 2019', '3.00 %'),\n",
       " ('Oktober 2019', '3.13 %'),\n",
       " ('September 2019', '3.39 %'),\n",
       " ('Agustus 2019', '3.49 %'),\n",
       " ('Juli 2019', '3.32 %'),\n",
       " ('Juni 2019', '3.28 %'),\n",
       " ('Mei 2019', '3.32 %'),\n",
       " ('April 2019', '2.83 %'),\n",
       " ('Maret 2019', '2.48 %'),\n",
       " ('Februari 2019', '2.57 %'),\n",
       " ('Januari 2019', '2.82 %'),\n",
       " ('Desember 2018', '3.13 %'),\n",
       " ('Nopember 2018', '3.23 %'),\n",
       " ('Oktober 2018', '3.16 %'),\n",
       " ('September 2018', '2.88 %'),\n",
       " ('Agustus 2018', '3.20 %'),\n",
       " ('Juli 2018', '3.18 %'),\n",
       " ('Juni 2018', '3.12 %'),\n",
       " ('Mei 2018', '3.23 %')]"
      ]
     },
     "execution_count": 22,
     "metadata": {},
     "output_type": "execute_result"
    }
   ],
   "source": [
    "temp = [] #initiating a tuple\n",
    "\n",
    "for i in range(1, len(tr)):\n",
    "    row = table.find_all('tr')[i]\n",
    "    \n",
    "    #get bulan\n",
    "    period = row.find_all('td')[0].text\n",
    "    period = period.strip() #for removing the excess whitespace\n",
    "    \n",
    "    #get inflasi\n",
    "    inflation = row.find_all('td')[1].text\n",
    "    inflation = inflation.strip() #for removing the excess whitespace\n",
    "    \n",
    "    temp.append((period,inflation)) \n",
    "    \n",
    "temp "
   ]
  },
  {
   "cell_type": "code",
   "execution_count": 23,
   "metadata": {},
   "outputs": [
    {
     "data": {
      "text/plain": [
       "[('31\\xa0Desember\\xa02019', '128,62', '127,32'),\n",
       " ('30\\xa0Desember\\xa02019', '128,30', '127,02'),\n",
       " ('27\\xa0Desember\\xa02019', '128,11', '126,83'),\n",
       " ('26\\xa0Desember\\xa02019', '128,27', '126,98'),\n",
       " ('23\\xa0Desember\\xa02019', '128,39', '127,10'),\n",
       " ('20\\xa0Desember\\xa02019', '128,63', '127,34'),\n",
       " ('19\\xa0Desember\\xa02019', '128,24', '126,93'),\n",
       " ('18\\xa0Desember\\xa02019', '128,64', '127,32'),\n",
       " ('17\\xa0Desember\\xa02019', '128,62', '127,33'),\n",
       " ('16\\xa0Desember\\xa02019', '128,67', '127,36'),\n",
       " ('13\\xa0Desember\\xa02019', '128,30', '127,02'),\n",
       " ('12\\xa0Desember\\xa02019', '130,04', '128,71'),\n",
       " ('11\\xa0Desember\\xa02019', '129,65', '128,34'),\n",
       " ('10\\xa0Desember\\xa02019', '129,56', '128,26'),\n",
       " ('09\\xa0Desember\\xa02019', '129,76', '128,44'),\n",
       " ('06\\xa0Desember\\xa02019', '129,78', '128,45'),\n",
       " ('05\\xa0Desember\\xa02019', '130,10', '128,77'),\n",
       " ('04\\xa0Desember\\xa02019', '130,79', '129,45'),\n",
       " ('03\\xa0Desember\\xa02019', '130,15', '128,82'),\n",
       " ('02\\xa0Desember\\xa02019', '129,36', '128,04'),\n",
       " ('29\\xa0November\\xa02019', '129,44', '128,12'),\n",
       " ('28\\xa0November\\xa02019', '129,47', '128,15'),\n",
       " ('27\\xa0November\\xa02019', '129,84', '128,53'),\n",
       " ('26\\xa0November\\xa02019', '129,82', '128,49'),\n",
       " ('25\\xa0November\\xa02019', '130,20', '128,89'),\n",
       " ('22\\xa0November\\xa02019', '130,44', '129,10'),\n",
       " ('21\\xa0November\\xa02019', '130,73', '129,39'),\n",
       " ('20\\xa0November\\xa02019', '130,56', '129,23'),\n",
       " ('19\\xa0November\\xa02019', '130,34', '129,03'),\n",
       " ('18\\xa0November\\xa02019', '130,02', '128,70'),\n",
       " ('15\\xa0November\\xa02019', '130,23', '128,90'),\n",
       " ('14\\xa0November\\xa02019', '130,34', '129,01'),\n",
       " ('13\\xa0November\\xa02019', '129,86', '128,53'),\n",
       " ('12\\xa0November\\xa02019', '129,45', '128,15'),\n",
       " ('11\\xa0November\\xa02019', '129,37', '128,07'),\n",
       " ('08\\xa0November\\xa02019', '129,03', '127,73'),\n",
       " ('07\\xa0November\\xa02019', '129,71', '128,41'),\n",
       " ('06\\xa0November\\xa02019', '128,96', '127,64'),\n",
       " ('05\\xa0November\\xa02019', '129,67', '128,34'),\n",
       " ('04\\xa0November\\xa02019', '130,04', '128,71'),\n",
       " ('01\\xa0November\\xa02019', '130,88', '129,54'),\n",
       " ('31\\xa0Oktober\\xa02019', '129,57', '128,25'),\n",
       " ('30\\xa0Oktober\\xa02019', '129,67', '128,34'),\n",
       " ('29\\xa0Oktober\\xa02019', '129,39', '128,09'),\n",
       " ('28\\xa0Oktober\\xa02019', '129,57', '128,27'),\n",
       " ('25\\xa0Oktober\\xa02019', '130,11', '128,78'),\n",
       " ('24\\xa0Oktober\\xa02019', '129,52', '128,22'),\n",
       " ('23\\xa0Oktober\\xa02019', '130,35', '129,05'),\n",
       " ('22\\xa0Oktober\\xa02019', '130,06', '128,73'),\n",
       " ('21\\xa0Oktober\\xa02019', '130,94', '129,60'),\n",
       " ('18\\xa0Oktober\\xa02019', '130,91', '129,60'),\n",
       " ('17\\xa0Oktober\\xa02019', '130,94', '129,61'),\n",
       " ('16\\xa0Oktober\\xa02019', '131,20', '129,89'),\n",
       " ('15\\xa0Oktober\\xa02019', '131,19', '129,87'),\n",
       " ('14\\xa0Oktober\\xa02019', '131,11', '129,77'),\n",
       " ('11\\xa0Oktober\\xa02019', '131,66', '130,31'),\n",
       " ('10\\xa0Oktober\\xa02019', '132,29', '130,94'),\n",
       " ('09\\xa0Oktober\\xa02019', '133,01', '131,64'),\n",
       " ('08\\xa0Oktober\\xa02019', '132,68', '131,32'),\n",
       " ('07\\xa0Oktober\\xa02019', '133,19', '131,83'),\n",
       " ('04\\xa0Oktober\\xa02019', '133,05', '131,71'),\n",
       " ('03\\xa0Oktober\\xa02019', '133,13', '131,80'),\n",
       " ('02\\xa0Oktober\\xa02019', '132,55', '131,19'),\n",
       " ('01\\xa0Oktober\\xa02019', '131,87', '130,52'),\n",
       " ('30\\xa0September\\xa02019', '132,03', '130,68'),\n",
       " ('27\\xa0September\\xa02019', '132,49', '131,14'),\n",
       " ('26\\xa0September\\xa02019', '132,20', '130,86'),\n",
       " ('25\\xa0September\\xa02019', '132,44', '131,07'),\n",
       " ('24\\xa0September\\xa02019', '131,73', '130,39'),\n",
       " ('23\\xa0September\\xa02019', '131,37', '130,03'),\n",
       " ('20\\xa0September\\xa02019', '131,14', '129,80'),\n",
       " ('19\\xa0September\\xa02019', '131,00', '129,69'),\n",
       " ('18\\xa0September\\xa02019', '130,75', '129,43'),\n",
       " ('17\\xa0September\\xa02019', '131,09', '129,75'),\n",
       " ('16\\xa0September\\xa02019', '130,78', '129,47'),\n",
       " ('13\\xa0September\\xa02019', '129,63', '128,30'),\n",
       " ('12\\xa0September\\xa02019', '130,75', '129,42'),\n",
       " ('11\\xa0September\\xa02019', '131,30', '129,96'),\n",
       " ('10\\xa0September\\xa02019', '131,34', '130,00'),\n",
       " ('09\\xa0September\\xa02019', '132,50', '131,16'),\n",
       " ('06\\xa0September\\xa02019', '132,73', '131,39'),\n",
       " ('05\\xa0September\\xa02019', '133,37', '132,00'),\n",
       " ('04\\xa0September\\xa02019', '134,85', '133,47'),\n",
       " ('03\\xa0September\\xa02019', '134,39', '133,01'),\n",
       " ('02\\xa0September\\xa02019', '134,30', '132,92'),\n",
       " ('30\\xa0Agustus\\xa02019', '134,33', '132,96'),\n",
       " ('29\\xa0Agustus\\xa02019', '135,32', '133,95'),\n",
       " ('28\\xa0Agustus\\xa02019', '135,51', '134,15'),\n",
       " ('27\\xa0Agustus\\xa02019', '135,32', '133,94'),\n",
       " ('26\\xa0Agustus\\xa02019', '136,20', '134,81'),\n",
       " ('23\\xa0Agustus\\xa02019', '134,45', '133,08'),\n",
       " ('22\\xa0Agustus\\xa02019', '134,38', '133,01'),\n",
       " ('21\\xa0Agustus\\xa02019', '134,63', '133,26'),\n",
       " ('20\\xa0Agustus\\xa02019', '134,48', '133,14'),\n",
       " ('19\\xa0Agustus\\xa02019', '134,29', '132,93'),\n",
       " ('16\\xa0Agustus\\xa02019', '134,86', '133,51'),\n",
       " ('15\\xa0Agustus\\xa02019', '135,65', '134,27'),\n",
       " ('14\\xa0Agustus\\xa02019', '134,60', '133,24'),\n",
       " ('13\\xa0Agustus\\xa02019', '136,19', '134,80'),\n",
       " ('12\\xa0Agustus\\xa02019', '135,50', '134,14'),\n",
       " ('09\\xa0Agustus\\xa02019', '134,60', '133,25'),\n",
       " ('08\\xa0Agustus\\xa02019', '134,67', '133,30'),\n",
       " ('07\\xa0Agustus\\xa02019', '135,34', '133,96'),\n",
       " ('06\\xa0Agustus\\xa02019', '135,85', '134,48'),\n",
       " ('05\\xa0Agustus\\xa02019', '134,95', '133,57'),\n",
       " ('02\\xa0Agustus\\xa02019', '133,31', '131,95'),\n",
       " ('01\\xa0Agustus\\xa02019', '129,80', '128,49'),\n",
       " ('31\\xa0Juli\\xa02019', '129,87', '128,54'),\n",
       " ('30\\xa0Juli\\xa02019', '129,68', '128,36'),\n",
       " ('29\\xa0Juli\\xa02019', '129,81', '128,48'),\n",
       " ('26\\xa0Juli\\xa02019', '129,56', '128,23'),\n",
       " ('25\\xa0Juli\\xa02019', '129,98', '128,65'),\n",
       " ('24\\xa0Juli\\xa02019', '130,15', '128,84'),\n",
       " ('23\\xa0Juli\\xa02019', '130,00', '128,67'),\n",
       " ('22\\xa0Juli\\xa02019', '129,98', '128,65'),\n",
       " ('19\\xa0Juli\\xa02019', '130,04', '128,72'),\n",
       " ('18\\xa0Juli\\xa02019', '130,45', '129,14'),\n",
       " ('17\\xa0Juli\\xa02019', '129,63', '128,30'),\n",
       " ('16\\xa0Juli\\xa02019', '129,62', '128,30'),\n",
       " ('15\\xa0Juli\\xa02019', '129,93', '128,60'),\n",
       " ('12\\xa0Juli\\xa02019', '130,67', '129,35'),\n",
       " ('11\\xa0Juli\\xa02019', '131,10', '129,77'),\n",
       " ('10\\xa0Juli\\xa02019', '130,61', '129,27'),\n",
       " ('09\\xa0Juli\\xa02019', '130,49', '129,15'),\n",
       " ('08\\xa0Juli\\xa02019', '131,13', '129,80'),\n",
       " ('05\\xa0Juli\\xa02019', '131,87', '130,54'),\n",
       " ('04\\xa0Juli\\xa02019', '131,60', '130,24'),\n",
       " ('03\\xa0Juli\\xa02019', '132,30', '130,94'),\n",
       " ('02\\xa0Juli\\xa02019', '131,09', '129,75'),\n",
       " ('01\\xa0Juli\\xa02019', '131,12', '129,77'),\n",
       " ('28\\xa0Juni\\xa02019', '132,07', '130,71'),\n",
       " ('27\\xa0Juni\\xa02019', '131,98', '130,63'),\n",
       " ('26\\xa0Juni\\xa02019', '132,56', '131,20'),\n",
       " ('25\\xa0Juni\\xa02019', '132,65', '131,28'),\n",
       " ('24\\xa0Juni\\xa02019', '132,61', '131,25'),\n",
       " ('21\\xa0Juni\\xa02019', '132,42', '131,05'),\n",
       " ('20\\xa0Juni\\xa02019', '132,78', '131,43'),\n",
       " ('19\\xa0Juni\\xa02019', '132,20', '130,85'),\n",
       " ('18\\xa0Juni\\xa02019', '133,01', '131,64'),\n",
       " ('17\\xa0Juni\\xa02019', '132,79', '131,42'),\n",
       " ('14\\xa0Juni\\xa02019', '132,73', '131,36'),\n",
       " ('13\\xa0Juni\\xa02019', '132,53', '131,18'),\n",
       " ('12\\xa0Juni\\xa02019', '131,88', '130,56'),\n",
       " ('11\\xa0Juni\\xa02019', '131,96', '130,64'),\n",
       " ('10\\xa0Juni\\xa02019', '131,84', '130,49'),\n",
       " ('31\\xa0Mei\\xa02019', '132,32', '130,96'),\n",
       " ('29\\xa0Mei\\xa02019', '132,48', '131,15'),\n",
       " ('28\\xa0Mei\\xa02019', '132,02', '130,69'),\n",
       " ('27\\xa0Mei\\xa02019', '131,86', '130,51'),\n",
       " ('24\\xa0Mei\\xa02019', '132,51', '131,16'),\n",
       " ('23\\xa0Mei\\xa02019', '132,34', '130,98'),\n",
       " ('22\\xa0Mei\\xa02019', '131,71', '130,37'),\n",
       " ('21\\xa0Mei\\xa02019', '131,94', '130,60'),\n",
       " ('20\\xa0Mei\\xa02019', '132,03', '130,69'),\n",
       " ('17\\xa0Mei\\xa02019', '132,30', '130,95'),\n",
       " ('16\\xa0Mei\\xa02019', '132,73', '131,40'),\n",
       " ('15\\xa0Mei\\xa02019', '132,51', '131,16'),\n",
       " ('14\\xa0Mei\\xa02019', '132,48', '131,16'),\n",
       " ('13\\xa0Mei\\xa02019', '131,54', '130,19'),\n",
       " ('10\\xa0Mei\\xa02019', '131,14', '129,80'),\n",
       " ('09\\xa0Mei\\xa02019', '131,14', '129,80'),\n",
       " ('08\\xa0Mei\\xa02019', '130,69', '129,34'),\n",
       " ('07\\xa0Mei\\xa02019', '129,91', '128,60'),\n",
       " ('06\\xa0Mei\\xa02019', '130,14', '128,80'),\n",
       " ('03\\xa0Mei\\xa02019', '128,83', '127,52'),\n",
       " ('02\\xa0Mei\\xa02019', '128,31', '127,01'),\n",
       " ('30\\xa0April\\xa02019', '128,02', '126,72'),\n",
       " ('29\\xa0April\\xa02019', '127,77', '126,49'),\n",
       " ('26\\xa0April\\xa02019', '127,70', '126,42'),\n",
       " ('25\\xa0April\\xa02019', '127,11', '125,82'),\n",
       " ('24\\xa0April\\xa02019', '126,78', '125,49'),\n",
       " ('23\\xa0April\\xa02019', '126,60', '125,31'),\n",
       " ('22\\xa0April\\xa02019', '126,20', '124,91'),\n",
       " ('18\\xa0April\\xa02019', '125,84', '124,55'),\n",
       " ('16\\xa0April\\xa02019', '126,30', '125,02'),\n",
       " ('15\\xa0April\\xa02019', '126,25', '124,96'),\n",
       " ('12\\xa0April\\xa02019', '127,35', '126,06'),\n",
       " ('11\\xa0April\\xa02019', '128,15', '126,83'),\n",
       " ('10\\xa0April\\xa02019', '128,00', '126,69'),\n",
       " ('09\\xa0April\\xa02019', '127,75', '126,46'),\n",
       " ('08\\xa0April\\xa02019', '127,60', '126,29'),\n",
       " ('05\\xa0April\\xa02019', '127,41', '126,11'),\n",
       " ('04\\xa0April\\xa02019', '127,92', '126,61'),\n",
       " ('02\\xa0April\\xa02019', '128,55', '127,24'),\n",
       " ('01\\xa0April\\xa02019', '128,68', '127,37'),\n",
       " ('29\\xa0Maret\\xa02019', '129,21', '127,92'),\n",
       " ('28\\xa0Maret\\xa02019', '130,04', '128,72'),\n",
       " ('27\\xa0Maret\\xa02019', '129,19', '127,88'),\n",
       " ('26\\xa0Maret\\xa02019', '129,38', '128,07'),\n",
       " ('25\\xa0Maret\\xa02019', '130,23', '128,90'),\n",
       " ('22\\xa0Maret\\xa02019', '128,50', '127,19'),\n",
       " ('21\\xa0Maret\\xa02019', '128,16', '126,84'),\n",
       " ('20\\xa0Maret\\xa02019', '128,14', '126,86'),\n",
       " ('19\\xa0Maret\\xa02019', '128,60', '127,30'),\n",
       " ('18\\xa0Maret\\xa02019', '128,26', '126,96'),\n",
       " ('15\\xa0Maret\\xa02019', '128,69', '127,36'),\n",
       " ('14\\xa0Maret\\xa02019', '128,55', '127,24'),\n",
       " ('13\\xa0Maret\\xa02019', '129,01', '127,70'),\n",
       " ('12\\xa0Maret\\xa02019', '128,56', '127,25'),\n",
       " ('11\\xa0Maret\\xa02019', '129,64', '128,33'),\n",
       " ('08\\xa0Maret\\xa02019', '128,19', '126,88'),\n",
       " ('06\\xa0Maret\\xa02019', '127,01', '125,73'),\n",
       " ('05\\xa0Maret\\xa02019', '127,10', '125,82'),\n",
       " ('04\\xa0Maret\\xa02019', '127,04', '125,74'),\n",
       " ('01\\xa0Maret\\xa02019', '126,99', '125,67'),\n",
       " ('28\\xa0Februari\\xa02019', '127,46', '126,19'),\n",
       " ('27\\xa0Februari\\xa02019', '127,29', '125,99'),\n",
       " ('26\\xa0Februari\\xa02019', '126,92', '125,61'),\n",
       " ('25\\xa0Februari\\xa02019', '127,16', '125,89'),\n",
       " ('22\\xa0Februari\\xa02019', '127,77', '126,47'),\n",
       " ('21\\xa0Februari\\xa02019', '127,57', '126,29'),\n",
       " ('20\\xa0Februari\\xa02019', '127,45', '126,15'),\n",
       " ('19\\xa0Februari\\xa02019', '128,42', '127,10'),\n",
       " ('18\\xa0Februari\\xa02019', '128,26', '126,97'),\n",
       " ('15\\xa0Februari\\xa02019', '128,61', '127,31'),\n",
       " ('14\\xa0Februari\\xa02019', '127,61', '126,33'),\n",
       " ('13\\xa0Februari\\xa02019', '127,47', '126,18'),\n",
       " ('12\\xa0Februari\\xa02019', '128,16', '126,88'),\n",
       " ('11\\xa0Februari\\xa02019', '128,07', '126,79'),\n",
       " ('08\\xa0Februari\\xa02019', '128,15', '126,85'),\n",
       " ('07\\xa0Februari\\xa02019', '127,92', '126,63'),\n",
       " ('06\\xa0Februari\\xa02019', '127,81', '126,52'),\n",
       " ('04\\xa0Februari\\xa02019', '128,24', '126,95'),\n",
       " ('01\\xa0Februari\\xa02019', '129,05', '127,75'),\n",
       " ('31\\xa0Januari\\xa02019', '129,92', '128,60'),\n",
       " ('30\\xa0Januari\\xa02019', '129,79', '128,47'),\n",
       " ('29\\xa0Januari\\xa02019', '129,74', '128,43'),\n",
       " ('28\\xa0Januari\\xa02019', '128,97', '127,65'),\n",
       " ('25\\xa0Januari\\xa02019', '129,68', '128,37'),\n",
       " ('24\\xa0Januari\\xa02019', '129,79', '128,48'),\n",
       " ('23\\xa0Januari\\xa02019', '130,05', '128,75'),\n",
       " ('22\\xa0Januari\\xa02019', '130,39', '129,07'),\n",
       " ('21\\xa0Januari\\xa02019', '130,31', '128,98'),\n",
       " ('18\\xa0Januari\\xa02019', '130,37', '129,03'),\n",
       " ('17\\xa0Januari\\xa02019', '130,61', '129,27'),\n",
       " ('16\\xa0Januari\\xa02019', '131,11', '129,75'),\n",
       " ('15\\xa0Januari\\xa02019', '130,56', '129,23'),\n",
       " ('14\\xa0Januari\\xa02019', '130,52', '129,19'),\n",
       " ('11\\xa0Januari\\xa02019', '130,62', '129,31'),\n",
       " ('10\\xa0Januari\\xa02019', '131,22', '129,88'),\n",
       " ('09\\xa0Januari\\xa02019', '130,31', '129,00'),\n",
       " ('08\\xa0Januari\\xa02019', '129,84', '128,52'),\n",
       " ('07\\xa0Januari\\xa02019', '130,86', '129,51'),\n",
       " ('04\\xa0Januari\\xa02019', '133,51', '132,17'),\n",
       " ('03\\xa0Januari\\xa02019', '135,44', '134,08'),\n",
       " ('02\\xa0Januari\\xa02019', '132,89', '131,54')]"
      ]
     },
     "execution_count": 23,
     "metadata": {},
     "output_type": "execute_result"
    }
   ],
   "source": [
    "temp_cp = [] #initiating a tuple\n",
    "\n",
    "for i in range(1, len(tr_cp)):\n",
    "    row = table_cp.find_all('tr')[i]\n",
    "    \n",
    "    #get tanggal\n",
    "    tanggal = row.find_all('td')[0].text\n",
    "    tanggal = tanggal.strip() #for removing the excess whitespace\n",
    "    \n",
    "    #get kurs jual\n",
    "    jual = row.find_all('td')[1].text\n",
    "    jual = jual.strip() #for removing the excess whitespace\n",
    "      \n",
    "    #get kurs beli\n",
    "    beli = row.find_all('td')[2].text\n",
    "    beli = beli.strip() #for removing the excess whitespace\n",
    "    \n",
    "    temp_cp.append((tanggal,jual,beli)) \n",
    "    \n",
    "temp_cp "
   ]
  },
  {
   "cell_type": "markdown",
   "metadata": {},
   "source": [
    "That the result we get, At this point we can input it to a pandas' DataFrame and do usual data analysis, but if you notice the original webpage give us reversed information. To do a further analysis let's reverse our tuple we can use `::-1` to do that. "
   ]
  },
  {
   "cell_type": "code",
   "execution_count": 24,
   "metadata": {},
   "outputs": [
    {
     "data": {
      "text/plain": [
       "[('Mei 2018', '3.23 %'),\n",
       " ('Juni 2018', '3.12 %'),\n",
       " ('Juli 2018', '3.18 %'),\n",
       " ('Agustus 2018', '3.20 %'),\n",
       " ('September 2018', '2.88 %'),\n",
       " ('Oktober 2018', '3.16 %'),\n",
       " ('Nopember 2018', '3.23 %'),\n",
       " ('Desember 2018', '3.13 %'),\n",
       " ('Januari 2019', '2.82 %'),\n",
       " ('Februari 2019', '2.57 %'),\n",
       " ('Maret 2019', '2.48 %'),\n",
       " ('April 2019', '2.83 %'),\n",
       " ('Mei 2019', '3.32 %'),\n",
       " ('Juni 2019', '3.28 %'),\n",
       " ('Juli 2019', '3.32 %'),\n",
       " ('Agustus 2019', '3.49 %'),\n",
       " ('September 2019', '3.39 %'),\n",
       " ('Oktober 2019', '3.13 %'),\n",
       " ('Nopember 2019', '3.00 %'),\n",
       " ('Desember 2019', '2.72 %')]"
      ]
     },
     "execution_count": 24,
     "metadata": {},
     "output_type": "execute_result"
    }
   ],
   "source": [
    "temp = temp[::-1]\n",
    "temp"
   ]
  },
  {
   "cell_type": "markdown",
   "metadata": {},
   "source": [
    "Then after we fix our tuple a bit, as usual we will input it to pandas' dataframe."
   ]
  },
  {
   "cell_type": "code",
   "execution_count": 25,
   "metadata": {},
   "outputs": [
    {
     "data": {
      "text/html": [
       "<div>\n",
       "<style scoped>\n",
       "    .dataframe tbody tr th:only-of-type {\n",
       "        vertical-align: middle;\n",
       "    }\n",
       "\n",
       "    .dataframe tbody tr th {\n",
       "        vertical-align: top;\n",
       "    }\n",
       "\n",
       "    .dataframe thead th {\n",
       "        text-align: right;\n",
       "    }\n",
       "</style>\n",
       "<table border=\"1\" class=\"dataframe\">\n",
       "  <thead>\n",
       "    <tr style=\"text-align: right;\">\n",
       "      <th></th>\n",
       "      <th>period</th>\n",
       "      <th>inflation</th>\n",
       "    </tr>\n",
       "  </thead>\n",
       "  <tbody>\n",
       "    <tr>\n",
       "      <th>0</th>\n",
       "      <td>Mei 2018</td>\n",
       "      <td>3.23 %</td>\n",
       "    </tr>\n",
       "    <tr>\n",
       "      <th>1</th>\n",
       "      <td>Juni 2018</td>\n",
       "      <td>3.12 %</td>\n",
       "    </tr>\n",
       "    <tr>\n",
       "      <th>2</th>\n",
       "      <td>Juli 2018</td>\n",
       "      <td>3.18 %</td>\n",
       "    </tr>\n",
       "    <tr>\n",
       "      <th>3</th>\n",
       "      <td>Agustus 2018</td>\n",
       "      <td>3.20 %</td>\n",
       "    </tr>\n",
       "    <tr>\n",
       "      <th>4</th>\n",
       "      <td>September 2018</td>\n",
       "      <td>2.88 %</td>\n",
       "    </tr>\n",
       "  </tbody>\n",
       "</table>\n",
       "</div>"
      ],
      "text/plain": [
       "           period inflation\n",
       "0        Mei 2018    3.23 %\n",
       "1       Juni 2018    3.12 %\n",
       "2       Juli 2018    3.18 %\n",
       "3    Agustus 2018    3.20 %\n",
       "4  September 2018    2.88 %"
      ]
     },
     "execution_count": 25,
     "metadata": {},
     "output_type": "execute_result"
    }
   ],
   "source": [
    "import pandas as pd\n",
    "\n",
    "df = pd.DataFrame(temp, columns = ('period','inflation'))\n",
    "df.head()"
   ]
  },
  {
   "cell_type": "code",
   "execution_count": 52,
   "metadata": {},
   "outputs": [
    {
     "data": {
      "text/html": [
       "<div>\n",
       "<style scoped>\n",
       "    .dataframe tbody tr th:only-of-type {\n",
       "        vertical-align: middle;\n",
       "    }\n",
       "\n",
       "    .dataframe tbody tr th {\n",
       "        vertical-align: top;\n",
       "    }\n",
       "\n",
       "    .dataframe thead th {\n",
       "        text-align: right;\n",
       "    }\n",
       "</style>\n",
       "<table border=\"1\" class=\"dataframe\">\n",
       "  <thead>\n",
       "    <tr style=\"text-align: right;\">\n",
       "      <th></th>\n",
       "      <th>tanggal</th>\n",
       "      <th>jual</th>\n",
       "      <th>beli</th>\n",
       "    </tr>\n",
       "  </thead>\n",
       "  <tbody>\n",
       "    <tr>\n",
       "      <th>0</th>\n",
       "      <td>31 Desember 2019</td>\n",
       "      <td>128,62</td>\n",
       "      <td>127,32</td>\n",
       "    </tr>\n",
       "    <tr>\n",
       "      <th>1</th>\n",
       "      <td>30 Desember 2019</td>\n",
       "      <td>128,30</td>\n",
       "      <td>127,02</td>\n",
       "    </tr>\n",
       "    <tr>\n",
       "      <th>2</th>\n",
       "      <td>27 Desember 2019</td>\n",
       "      <td>128,11</td>\n",
       "      <td>126,83</td>\n",
       "    </tr>\n",
       "    <tr>\n",
       "      <th>3</th>\n",
       "      <td>26 Desember 2019</td>\n",
       "      <td>128,27</td>\n",
       "      <td>126,98</td>\n",
       "    </tr>\n",
       "    <tr>\n",
       "      <th>4</th>\n",
       "      <td>23 Desember 2019</td>\n",
       "      <td>128,39</td>\n",
       "      <td>127,10</td>\n",
       "    </tr>\n",
       "  </tbody>\n",
       "</table>\n",
       "</div>"
      ],
      "text/plain": [
       "            tanggal    jual    beli\n",
       "0  31 Desember 2019  128,62  127,32\n",
       "1  30 Desember 2019  128,30  127,02\n",
       "2  27 Desember 2019  128,11  126,83\n",
       "3  26 Desember 2019  128,27  126,98\n",
       "4  23 Desember 2019  128,39  127,10"
      ]
     },
     "execution_count": 52,
     "metadata": {},
     "output_type": "execute_result"
    }
   ],
   "source": [
    "import pandas as pd\n",
    "\n",
    "df_cp = pd.DataFrame(temp_cp, columns = ('tanggal','jual','beli'))\n",
    "df_cp.head()\n",
    " "
   ]
  },
  {
   "cell_type": "code",
   "execution_count": 53,
   "metadata": {},
   "outputs": [
    {
     "data": {
      "text/html": [
       "<div>\n",
       "<style scoped>\n",
       "    .dataframe tbody tr th:only-of-type {\n",
       "        vertical-align: middle;\n",
       "    }\n",
       "\n",
       "    .dataframe tbody tr th {\n",
       "        vertical-align: top;\n",
       "    }\n",
       "\n",
       "    .dataframe thead th {\n",
       "        text-align: right;\n",
       "    }\n",
       "</style>\n",
       "<table border=\"1\" class=\"dataframe\">\n",
       "  <thead>\n",
       "    <tr style=\"text-align: right;\">\n",
       "      <th></th>\n",
       "      <th>tanggal</th>\n",
       "      <th>jual</th>\n",
       "      <th>beli</th>\n",
       "    </tr>\n",
       "  </thead>\n",
       "  <tbody>\n",
       "    <tr>\n",
       "      <th>0</th>\n",
       "      <td>31 Desember 2019</td>\n",
       "      <td>128.62</td>\n",
       "      <td>127.32</td>\n",
       "    </tr>\n",
       "    <tr>\n",
       "      <th>1</th>\n",
       "      <td>30 Desember 2019</td>\n",
       "      <td>128.30</td>\n",
       "      <td>127.02</td>\n",
       "    </tr>\n",
       "    <tr>\n",
       "      <th>2</th>\n",
       "      <td>27 Desember 2019</td>\n",
       "      <td>128.11</td>\n",
       "      <td>126.83</td>\n",
       "    </tr>\n",
       "    <tr>\n",
       "      <th>3</th>\n",
       "      <td>26 Desember 2019</td>\n",
       "      <td>128.27</td>\n",
       "      <td>126.98</td>\n",
       "    </tr>\n",
       "    <tr>\n",
       "      <th>4</th>\n",
       "      <td>23 Desember 2019</td>\n",
       "      <td>128.39</td>\n",
       "      <td>127.10</td>\n",
       "    </tr>\n",
       "  </tbody>\n",
       "</table>\n",
       "</div>"
      ],
      "text/plain": [
       "            tanggal    jual    beli\n",
       "0  31 Desember 2019  128.62  127.32\n",
       "1  30 Desember 2019  128.30  127.02\n",
       "2  27 Desember 2019  128.11  126.83\n",
       "3  26 Desember 2019  128.27  126.98\n",
       "4  23 Desember 2019  128.39  127.10"
      ]
     },
     "execution_count": 53,
     "metadata": {},
     "output_type": "execute_result"
    }
   ],
   "source": [
    "df_cp.dtypes\n",
    "\n",
    "df_cp['jual'] = df_cp['jual'].str.replace(\",\",\".\").astype('float64') \n",
    "df_cp['beli'] = df_cp['beli'].str.replace(\",\",\".\").astype('float64') \n",
    "\n",
    "#df_cp['tanggal'] = df_cp['tanggal'].astype('datetime64')\n",
    "\n",
    "df_cp.head()"
   ]
  },
  {
   "cell_type": "code",
   "execution_count": 54,
   "metadata": {},
   "outputs": [],
   "source": [
    "import dateparser\n",
    "\n",
    "df_cp['tanggal'] = df_cp.tanggal.apply(lambda x : dateparser.parse(x))\n",
    "\n"
   ]
  },
  {
   "cell_type": "code",
   "execution_count": 56,
   "metadata": {},
   "outputs": [
    {
     "data": {
      "text/plain": [
       "<matplotlib.axes._subplots.AxesSubplot at 0x1e1bc801d48>"
      ]
     },
     "execution_count": 56,
     "metadata": {},
     "output_type": "execute_result"
    },
    {
     "data": {
      "image/png": "[encoded data removed]",
      "text/plain": [
       "<Figure size 432x288 with 1 Axes>"
      ]
     },
     "metadata": {
      "needs_background": "light"
     },
     "output_type": "display_data"
    }
   ],
   "source": [
    "df_cp.dtypes\n",
    "df_cp.set_index('tanggal')\n",
    "df_cp.set_index('tanggal').plot()\n",
    "#df_cp.head()"
   ]
  },
  {
   "cell_type": "markdown",
   "metadata": {},
   "source": [
    "After this just usual stuff, we can clean the data or save it to csv let's do a bit cleaning so we can do a bit of visualisation. We will change the inflation to float datatype, but before we can do that we need to clean the \" %\" first. After the it on the right data type we can do simple visualisation using matplotlib."
   ]
  },
  {
   "cell_type": "code",
   "execution_count": 29,
   "metadata": {
    "scrolled": true
   },
   "outputs": [
    {
     "data": {
      "text/plain": [
       "<matplotlib.axes._subplots.AxesSubplot at 0x1e1b68cb8c8>"
      ]
     },
     "execution_count": 29,
     "metadata": {},
     "output_type": "execute_result"
    },
    {
     "data": {
      "image/png": "[encoded data removed]",
      "text/plain": [
       "<Figure size 432x288 with 1 Axes>"
      ]
     },
     "metadata": {
      "needs_background": "light"
     },
     "output_type": "display_data"
    }
   ],
   "source": [
    "df['inflation'] = df['inflation'].str.replace(\" %\",\"\")\n",
    "df['inflation'] = df['inflation'].astype('float64')\n",
    "\n",
    "df.plot()"
   ]
  },
  {
   "cell_type": "markdown",
   "metadata": {},
   "source": [
    "In conclution when you don't have a direct access to a data from a website you can always do the scrapping method. There is a couple library that can do same task like `scrapy` that can build bot to automaticly crawl data, but we choose beautiful soup since it's more beginner friendly and a helpful utility that allows a programmer to get specific elements out of a webpage (for example, a list of images). \n",
    "\n",
    "After this you also can implement the scrapping to one function and put it at the flask webapp, which you can find the demo [here](https://github.com/t3981-h/LikesRatio) and you can go to inflation branch to see example that scrap a same page or you can visit [Pricemate](https://github.com/onlyphantom/pricemate). Which scrap tiket.com data to get train price list. I hope this short module help you to understand and can kickstart you to learn more about webscrapping using Beautifulsoup. Also feel free to contact us at mentor@algorit.ma if you have more question.\n",
    "\n",
    "Happy learning~"
   ]
  },
  {
   "cell_type": "code",
   "execution_count": null,
   "metadata": {},
   "outputs": [],
   "source": []
  }
 ],
 "metadata": {
  "kernelspec": {
   "display_name": "env1",
   "language": "python",
   "name": "env1"
  },
  "language_info": {
   "codemirror_mode": {
    "name": "ipython",
    "version": 3
   },
   "file_extension": ".py",
   "mimetype": "text/x-python",
   "name": "python",
   "nbconvert_exporter": "python",
   "pygments_lexer": "ipython3",
   "version": "3.7.5"
  },
  "toc": {
   "base_numbering": 1,
   "nav_menu": {},
   "number_sections": true,
   "sideBar": true,
   "skip_h1_title": false,
   "title_cell": "Table of Contents",
   "title_sidebar": "Contents",
   "toc_cell": false,
   "toc_position": {},
   "toc_section_display": true,
   "toc_window_display": false
  }
 },
 "nbformat": 4,
 "nbformat_minor": 2
}
